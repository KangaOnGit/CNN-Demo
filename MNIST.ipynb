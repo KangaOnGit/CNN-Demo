{
  "nbformat": 4,
  "nbformat_minor": 0,
  "metadata": {
    "colab": {
      "provenance": [],
      "authorship_tag": "ABX9TyN3USq130CER2S/oOC5piHq",
      "include_colab_link": true
    },
    "kernelspec": {
      "name": "python3",
      "display_name": "Python 3"
    },
    "language_info": {
      "name": "python"
    }
  },
  "cells": [
    {
      "cell_type": "markdown",
      "metadata": {
        "id": "view-in-github",
        "colab_type": "text"
      },
      "source": [
        "<a href=\"https://colab.research.google.com/github/KangaOnGit/CNN-Demo/blob/main/MNIST.ipynb\" target=\"_parent\"><img src=\"https://colab.research.google.com/assets/colab-badge.svg\" alt=\"Open In Colab\"/></a>"
      ]
    },
    {
      "cell_type": "code",
      "execution_count": 33,
      "metadata": {
        "id": "-8twAkNA6ip6"
      },
      "outputs": [],
      "source": [
        "import torch\n",
        "import torch.nn as nn\n",
        "import torch.nn.functional as F\n",
        "import torch.optim as optim\n",
        "from torchvision import datasets, transforms\n",
        "from torch.utils.data import DataLoader, random_split"
      ]
    },
    {
      "cell_type": "code",
      "source": [
        "ROOT = './data'\n",
        "BATCH_SIZE = 128\n",
        "VALID_RATIO = 0.1\n",
        "\n",
        "# Tải dữ liệu\n",
        "train_dataset = datasets.MNIST(root=ROOT, train=True, download=True)\n",
        "test_dataset = datasets.MNIST(root=ROOT, train=False, download=True)"
      ],
      "metadata": {
        "id": "5HSgdS_oPXPt"
      },
      "execution_count": 34,
      "outputs": []
    },
    {
      "cell_type": "code",
      "source": [
        "n_train = int(len(train_dataset) * (1 - VALID_RATIO))\n",
        "n_valid = len(train_dataset) - n_train\n",
        "train_dataset, valid_dataset = random_split(train_dataset, [n_train, n_valid])"
      ],
      "metadata": {
        "id": "a18UmmBnPZB-"
      },
      "execution_count": 35,
      "outputs": []
    },
    {
      "cell_type": "code",
      "source": [
        "mean = train_dataset.dataset.data.float().mean() / 255\n",
        "std = train_dataset.dataset.data.float().std() / 255\n",
        "\n",
        "transform = transforms.Compose([\n",
        "    transforms.ToTensor(),\n",
        "    transforms.Normalize(mean=[mean], std=[std])\n",
        "])\n",
        "\n",
        "train_dataset.dataset.transform = transform\n",
        "valid_dataset.dataset.transform = transform\n",
        "test_dataset.transform = transform"
      ],
      "metadata": {
        "id": "FaDzJxjJPcAT"
      },
      "execution_count": 36,
      "outputs": []
    },
    {
      "cell_type": "code",
      "source": [
        "train_loader = DataLoader(train_dataset, batch_size=BATCH_SIZE, shuffle=True)\n",
        "valid_loader = DataLoader(valid_dataset, batch_size=BATCH_SIZE)\n",
        "test_loader = DataLoader(test_dataset, batch_size=BATCH_SIZE)"
      ],
      "metadata": {
        "id": "2Cca5VKdPds8"
      },
      "execution_count": 37,
      "outputs": []
    },
    {
      "cell_type": "code",
      "source": [
        "class LeNet(nn.Module):\n",
        "    def __init__(self, num_classes=10):\n",
        "        super(LeNet, self).__init__()\n",
        "        self.conv1 = nn.Conv2d(1, 6, kernel_size=5, padding=2)\n",
        "        self.pool1 = nn.AvgPool2d(kernel_size=2, stride=2)\n",
        "        self.conv2 = nn.Conv2d(6, 16, kernel_size=5)\n",
        "        self.pool2 = nn.AvgPool2d(kernel_size=2, stride=2)\n",
        "        self.fc1 = nn.Linear(16 * 5 * 5, 120)\n",
        "        self.fc2 = nn.Linear(120, 84)\n",
        "        self.fc3 = nn.Linear(84, num_classes)\n",
        "\n",
        "    def forward(self, x):\n",
        "        x = F.relu(self.conv1(x))\n",
        "        x = self.pool1(x)\n",
        "        x = F.relu(self.conv2(x))\n",
        "        x = self.pool2(x)\n",
        "        x = x.view(-1, 16 * 5 * 5)  # Flatten\n",
        "        x = F.relu(self.fc1(x))\n",
        "        x = F.relu(self.fc2(x))\n",
        "        x = self.fc3(x)\n",
        "        return x"
      ],
      "metadata": {
        "id": "mgww_majPfi-"
      },
      "execution_count": 38,
      "outputs": []
    },
    {
      "cell_type": "code",
      "source": [
        "def train(model, loader, optimizer, criterion, device):\n",
        "    model.train()\n",
        "    total_loss, total_correct = 0, 0\n",
        "    for inputs, labels in loader:\n",
        "        inputs, labels = inputs.to(device), labels.to(device)\n",
        "        optimizer.zero_grad()\n",
        "        outputs = model(inputs)\n",
        "        loss = criterion(outputs, labels)\n",
        "        loss.backward()\n",
        "        optimizer.step()\n",
        "        total_loss += loss.item() * inputs.size(0)\n",
        "        total_correct += (outputs.argmax(1) == labels).sum().item()\n",
        "    return total_loss / len(loader.dataset), total_correct / len(loader.dataset)"
      ],
      "metadata": {
        "id": "V9B9Q0DQPhVd"
      },
      "execution_count": 39,
      "outputs": []
    },
    {
      "cell_type": "code",
      "source": [
        "def evaluate(model, loader, criterion, device):\n",
        "    model.eval()\n",
        "    total_loss, total_correct = 0, 0\n",
        "    with torch.no_grad():\n",
        "        for inputs, labels in loader:\n",
        "            inputs, labels = inputs.to(device), labels.to(device)\n",
        "            outputs = model(inputs)\n",
        "            loss = criterion(outputs, labels)\n",
        "            total_loss += loss.item() * inputs.size(0)\n",
        "            total_correct += (outputs.argmax(1) == labels).sum().item()\n",
        "    return total_loss / len(loader.dataset), total_correct / len(loader.dataset)"
      ],
      "metadata": {
        "id": "BCLxg-LPPhnr"
      },
      "execution_count": 40,
      "outputs": []
    },
    {
      "cell_type": "code",
      "source": [
        "device = torch.device('cuda' if torch.cuda.is_available() else 'cpu')\n",
        "model = LeNet().to(device)\n",
        "criterion = nn.CrossEntropyLoss()\n",
        "optimizer = optim.Adam(model.parameters(), lr=0.001)\n",
        "\n",
        "num_epochs = 10\n",
        "best_valid_loss = float('inf')\n",
        "\n",
        "for epoch in range(1, num_epochs + 1):\n",
        "    train_loss, train_acc = train(model, train_loader, optimizer, criterion, device)\n",
        "    valid_loss, valid_acc = evaluate(model, valid_loader, criterion, device)\n",
        "\n",
        "    if valid_loss < best_valid_loss:\n",
        "        best_valid_loss = valid_loss\n",
        "        torch.save(model.state_dict(), 'lenet_mnist.pt')\n",
        "\n",
        "    print(f'Epoch {epoch:02}: Train Loss={train_loss:.4f}, Train Acc={train_acc:.4f}, '\n",
        "          f'Valid Loss={valid_loss:.4f}, Valid Acc={valid_acc:.4f}')"
      ],
      "metadata": {
        "colab": {
          "base_uri": "https://localhost:8080/"
        },
        "id": "G2eiJcJdPluj",
        "outputId": "d415fe9e-ef42-44e3-c0ad-ccdf445e8d5c"
      },
      "execution_count": 41,
      "outputs": [
        {
          "output_type": "stream",
          "name": "stdout",
          "text": [
            "Epoch 01: Train Loss=0.4009, Train Acc=0.8789, Valid Loss=0.1602, Valid Acc=0.9517\n",
            "Epoch 02: Train Loss=0.1115, Train Acc=0.9658, Valid Loss=0.1045, Valid Acc=0.9680\n",
            "Epoch 03: Train Loss=0.0744, Train Acc=0.9770, Valid Loss=0.0715, Valid Acc=0.9782\n",
            "Epoch 04: Train Loss=0.0568, Train Acc=0.9823, Valid Loss=0.0594, Valid Acc=0.9808\n",
            "Epoch 05: Train Loss=0.0458, Train Acc=0.9855, Valid Loss=0.0517, Valid Acc=0.9828\n",
            "Epoch 06: Train Loss=0.0401, Train Acc=0.9872, Valid Loss=0.0484, Valid Acc=0.9840\n",
            "Epoch 07: Train Loss=0.0335, Train Acc=0.9896, Valid Loss=0.0547, Valid Acc=0.9823\n",
            "Epoch 08: Train Loss=0.0303, Train Acc=0.9905, Valid Loss=0.0420, Valid Acc=0.9863\n",
            "Epoch 09: Train Loss=0.0263, Train Acc=0.9916, Valid Loss=0.0408, Valid Acc=0.9865\n",
            "Epoch 10: Train Loss=0.0231, Train Acc=0.9923, Valid Loss=0.0381, Valid Acc=0.9878\n"
          ]
        }
      ]
    },
    {
      "cell_type": "code",
      "source": [
        "model.load_state_dict(torch.load('lenet_mnist.pt'))\n",
        "test_loss, test_acc = evaluate(model, test_loader, criterion, device)\n",
        "print(f'Test Loss: {test_loss:.4f}, Test Accuracy: {test_acc:.4f}')"
      ],
      "metadata": {
        "colab": {
          "base_uri": "https://localhost:8080/"
        },
        "id": "-2YfB5O_Pnw3",
        "outputId": "77c33d81-9d82-426c-8282-86e8aff0075a"
      },
      "execution_count": 42,
      "outputs": [
        {
          "output_type": "stream",
          "name": "stderr",
          "text": [
            "<ipython-input-42-a9d4f198651c>:1: FutureWarning: You are using `torch.load` with `weights_only=False` (the current default value), which uses the default pickle module implicitly. It is possible to construct malicious pickle data which will execute arbitrary code during unpickling (See https://github.com/pytorch/pytorch/blob/main/SECURITY.md#untrusted-models for more details). In a future release, the default value for `weights_only` will be flipped to `True`. This limits the functions that could be executed during unpickling. Arbitrary objects will no longer be allowed to be loaded via this mode unless they are explicitly allowlisted by the user via `torch.serialization.add_safe_globals`. We recommend you start setting `weights_only=True` for any use case where you don't have full control of the loaded file. Please open an issue on GitHub for any issues related to this experimental feature.\n",
            "  model.load_state_dict(torch.load('lenet_mnist.pt'))\n"
          ]
        },
        {
          "output_type": "stream",
          "name": "stdout",
          "text": [
            "Test Loss: 0.0316, Test Accuracy: 0.9897\n"
          ]
        }
      ]
    }
  ]
}